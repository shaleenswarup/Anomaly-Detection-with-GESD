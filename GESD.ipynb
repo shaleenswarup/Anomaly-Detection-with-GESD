{
 "cells": [
  {
   "cell_type": "code",
   "execution_count": 1,
   "metadata": {
    "id": "aQTCarXor1a_"
   },
   "outputs": [],
   "source": [
    "import matplotlib.pyplot as plt\n",
    "import numpy as np\n",
    "import pandas as pd\n",
    "import scipy.stats as stats\n",
    "\n",
    "%matplotlib inline"
   ]
  },
  {
   "cell_type": "code",
   "execution_count": 2,
   "metadata": {
    "id": "3Jw-Lbchr3ct"
   },
   "outputs": [
    {
     "data": {
      "image/png": "[encoded data removed]",
      "text/plain": [
       "<Figure size 432x288 with 1 Axes>"
      ]
     },
     "metadata": {
      "needs_background": "light"
     },
     "output_type": "display_data"
    }
   ],
   "source": [
    "y = np.random.random(100)\n",
    "x = np.arange(len(y))\n",
    "\n",
    "plt.scatter(x,y)\n",
    "plt.show()"
   ]
  },
  {
   "cell_type": "code",
   "execution_count": 3,
   "metadata": {
    "colab": {
     "base_uri": "https://localhost:8080/"
    },
    "id": "sUtDdanHx_Y6",
    "outputId": "c3aebada-605e-4dda-fd89-97d8e43556a9"
   },
   "outputs": [
    {
     "data": {
      "text/plain": [
       "array([0.21108278, 0.03944384, 0.6146204 , 0.44728306, 0.53058627,\n",
       "       0.19487264, 0.12907005, 0.22939735, 0.38487416, 0.5594242 ,\n",
       "       0.24722997, 0.72161254, 0.35486192, 0.74350996, 0.15940907,\n",
       "       0.79570033, 0.25564977, 0.70676512, 0.41790453, 0.77626636,\n",
       "       0.39550418, 0.65649071, 0.9393072 , 0.17063162, 0.22113649,\n",
       "       0.55562686, 0.99270093, 0.44963051, 0.87172511, 0.42731672,\n",
       "       0.28801644, 0.25751197, 0.94705472, 0.29896785, 0.42894183,\n",
       "       0.22735141, 0.11922826, 0.59107898, 0.36434145, 0.72246463,\n",
       "       0.34675781, 0.09084825, 0.32000189, 0.54761594, 0.60717743,\n",
       "       0.96242542, 0.06361734, 0.23909955, 0.95785073, 0.4894874 ,\n",
       "       0.20892684, 0.11659836, 0.92596157, 0.54042466, 0.24460514,\n",
       "       0.61639827, 0.63959972, 0.72824003, 0.49055692, 0.9486514 ,\n",
       "       0.92716718, 0.5790342 , 0.62552946, 0.93960962, 0.44210249,\n",
       "       0.0103399 , 0.31468301, 0.50803871, 0.56109627, 0.99318319,\n",
       "       0.121308  , 0.93043044, 0.07546442, 0.43824577, 0.9816342 ,\n",
       "       0.38934965, 0.95783101, 0.79863073, 0.70794518, 0.6500268 ,\n",
       "       0.36463431, 0.93893568, 0.26373319, 0.87989195, 0.38320166,\n",
       "       0.17928492, 0.04050776, 0.75824389, 0.89761999, 0.58508817,\n",
       "       0.07161293, 0.73588739, 0.78517751, 0.61268965, 0.55792148,\n",
       "       0.20355931, 0.90311822, 0.87678155, 0.44410556, 0.7764269 ])"
      ]
     },
     "execution_count": 3,
     "metadata": {},
     "output_type": "execute_result"
    }
   ],
   "source": [
    "y"
   ]
  },
  {
   "cell_type": "code",
   "execution_count": 4,
   "metadata": {
    "colab": {
     "base_uri": "https://localhost:8080/",
     "height": 279
    },
    "id": "k5Z1mrf0r90r",
    "outputId": "6d92f1db-541a-4c01-e33a-6a246e8123f1"
   },
   "outputs": [
    {
     "data": {
      "image/png": "[encoded data removed]",
      "text/plain": [
       "<Figure size 432x288 with 1 Axes>"
      ]
     },
     "metadata": {
      "needs_background": "light"
     },
     "output_type": "display_data"
    }
   ],
   "source": [
    "plt.scatter(x,y)\n",
    "plt.xlabel('x')\n",
    "plt.ylabel('y')\n",
    "plt.show()"
   ]
  },
  {
   "cell_type": "code",
   "execution_count": 5,
   "metadata": {
    "id": "EnqVm1qGr_ti"
   },
   "outputs": [],
   "source": [
    "y[14] = 9\n",
    "y[83] = 10\n",
    "y[44] = 14"
   ]
  },
  {
   "cell_type": "code",
   "execution_count": 6,
   "metadata": {
    "colab": {
     "base_uri": "https://localhost:8080/",
     "height": 279
    },
    "id": "v2QRagbisHBC",
    "outputId": "39dc0e64-27d9-4711-a4eb-17cc7185e848"
   },
   "outputs": [
    {
     "data": {
      "image/png": "[encoded data removed]",
      "text/plain": [
       "<Figure size 432x288 with 1 Axes>"
      ]
     },
     "metadata": {
      "needs_background": "light"
     },
     "output_type": "display_data"
    }
   ],
   "source": [
    "plt.scatter(x,y)\n",
    "plt.show()"
   ]
  },
  {
   "cell_type": "code",
   "execution_count": 7,
   "metadata": {
    "id": "-kM6-xxhsIqK"
   },
   "outputs": [],
   "source": [
    "def test_stat(y, iteration):\n",
    "    std_dev = np.std(y)\n",
    "    avg_y = np.mean(y)\n",
    "    abs_val_minus_avg = abs(y - avg_y)\n",
    "    max_of_deviations = max(abs_val_minus_avg)\n",
    "    max_ind = np.argmax(abs_val_minus_avg)\n",
    "    cal = max_of_deviations/ std_dev\n",
    "    print('Test {}'.format(iteration))\n",
    "    print(\"Test Statistics Value(R{}) : {}\".format(iteration,cal))\n",
    "    return cal, max_ind"
   ]
  },
  {
   "cell_type": "code",
   "execution_count": 8,
   "metadata": {
    "id": "aNiKBzvLsYBr"
   },
   "outputs": [],
   "source": [
    "def calculate_critical_value(size, alpha, iteration):\n",
    "    t_dist = stats.t.ppf(1 - alpha / (2 * size), size - 2)\n",
    "    numerator = (size - 1) * np.sqrt(np.square(t_dist))\n",
    "    denominator = np.sqrt(size) * np.sqrt(size - 2 + np.square(t_dist))\n",
    "    critical_value = numerator / denominator\n",
    "    print(\"Critical Value(λ{}): {}\".format(iteration, critical_value))\n",
    "    return critical_value"
   ]
  },
  {
   "cell_type": "code",
   "execution_count": 9,
   "metadata": {
    "id": "_4GmLCoHsg1D"
   },
   "outputs": [],
   "source": [
    "def check_values(R, C, inp, max_index, iteration):\n",
    "    if R > C:\n",
    "        print('{} is an outlier. R{} > λ{}: {:.4f} > {:.4f} \\n'.format(inp[max_index],iteration, iteration, R, C))\n",
    "    else:\n",
    "        print('{} is not an outlier. R{}> λ{}: {:.4f} > {:.4f} \\n'.format(inp[max_index],iteration, iteration, R, C))\n"
   ]
  },
  {
   "cell_type": "code",
   "execution_count": 111,
   "metadata": {},
   "outputs": [],
   "source": []
  },
  {
   "cell_type": "code",
   "execution_count": 139,
   "metadata": {
    "id": "Tolskhr8sjWs"
   },
   "outputs": [],
   "source": [
    "def ESD_Test(input_series, alpha, max_outliers):\n",
    "    stats = []\n",
    "    critical_vals = []\n",
    "    for iterations in range(1, max_outliers + 1):\n",
    "        stat, max_index = test_stat(input_series, iterations)\n",
    "        critical = calculate_critical_value(len(input_series), alpha, iterations)\n",
    "        check_values(stat, critical, input_series, max_index, iterations)\n",
    "        input_series = np.delete(input_series, max_index)\n",
    "        critical_vals.append(critical)\n",
    "        stats.append(stat)\n",
    "        if stat > critical:\n",
    "            max_i = iterations\n",
    "    print('H0:  there are no outliers in the data')\n",
    "    print('Ha:  there are up to 10 outliers in the data')\n",
    "    print('')\n",
    "    print('Significance level:  α = {}'.format(alpha))\n",
    "    print('Critical region:  Reject H0 if Ri > critical value')\n",
    "    print('Ri: Test statistic')\n",
    "    print('λi: Critical Value')\n",
    "    print(' ')\n",
    "    df = pd.DataFrame({'i' :range(1, max_outliers + 1), 'Ri': stats, 'λi': critical_vals})\n",
    "    \n",
    "    def highlight_max(x):\n",
    "        if x.i == max_i:\n",
    "            return ['background-color: yellow']*3\n",
    "        else:\n",
    "            return ['background-color: white']*3\n",
    "    df.index = df.index + 1\n",
    "    print('Number of outliers {}'.format(max_i))\n",
    "    \n",
    "    return  df.style.apply(highlight_max, axis = 1)"
   ]
  },
  {
   "cell_type": "code",
   "execution_count": 140,
   "metadata": {
    "colab": {
     "base_uri": "https://localhost:8080/",
     "height": 1000
    },
    "id": "UavH3NBNsq-S",
    "outputId": "82ee3417-182a-4ac7-df8d-1131270649be"
   },
   "outputs": [
    {
     "name": "stdout",
     "output_type": "stream",
     "text": [
      "Test 1\n",
      "Test Statistics Value(R1) : 7.124123864567765\n",
      "Critical Value(λ1): 3.384082902288351\n",
      "14.0 is an outlier. R1 > λ1: 7.1241 > 3.3841 \n",
      "\n",
      "Test 2\n",
      "Test Statistics Value(R2) : 7.172286053117003\n",
      "Critical Value(λ2): 3.380650508067058\n",
      "10.0 is an outlier. R2 > λ2: 7.1723 > 3.3807 \n",
      "\n",
      "Test 3\n",
      "Test Statistics Value(R3) : 9.345694139119193\n",
      "Critical Value(λ3): 3.377175980782947\n",
      "9.0 is an outlier. R3 > λ3: 9.3457 > 3.3772 \n",
      "\n",
      "Test 4\n",
      "Test Statistics Value(R4) : 1.7759216587377087\n",
      "Critical Value(λ4): 3.3736583400522497\n",
      "0.010339898586288032 is not an outlier. R4> λ4: 1.7759 > 3.3737 \n",
      "\n",
      "Test 5\n",
      "Test Statistics Value(R5) : 1.7119004583891522\n",
      "Critical Value(λ5): 3.370096570986626\n",
      "0.03944383654485473 is not an outlier. R5> λ5: 1.7119 > 3.3701 \n",
      "\n",
      "Test 6\n",
      "Test Statistics Value(R6) : 1.744244223307002\n",
      "Critical Value(λ6): 3.3664896240676505\n",
      "0.04050776277425905 is not an outlier. R6> λ6: 1.7442 > 3.3665 \n",
      "\n",
      "Test 7\n",
      "Test Statistics Value(R7) : 1.6987570708520543\n",
      "Critical Value(λ7): 3.362836413028039\n",
      "0.06361733886985133 is not an outlier. R7> λ7: 1.6988 > 3.3628 \n",
      "\n",
      "H0:  there are no outliers in the data\n",
      "Ha:  there are up to 10 outliers in the data\n",
      "\n",
      "Significance level:  α = 0.05\n",
      "Critical region:  Reject H0 if Ri > critical value\n",
      "Ri: Test statistic\n",
      "λi: Critical Value\n",
      " \n",
      "Number of outliers 3\n"
     ]
    },
    {
     "data": {
      "text/html": [
       "<style  type=\"text/css\" >\n",
       "#T_97df1cee_9652_11eb_a610_81fdf2bee9b2row0_col0,#T_97df1cee_9652_11eb_a610_81fdf2bee9b2row0_col1,#T_97df1cee_9652_11eb_a610_81fdf2bee9b2row0_col2,#T_97df1cee_9652_11eb_a610_81fdf2bee9b2row1_col0,#T_97df1cee_9652_11eb_a610_81fdf2bee9b2row1_col1,#T_97df1cee_9652_11eb_a610_81fdf2bee9b2row1_col2,#T_97df1cee_9652_11eb_a610_81fdf2bee9b2row3_col0,#T_97df1cee_9652_11eb_a610_81fdf2bee9b2row3_col1,#T_97df1cee_9652_11eb_a610_81fdf2bee9b2row3_col2,#T_97df1cee_9652_11eb_a610_81fdf2bee9b2row4_col0,#T_97df1cee_9652_11eb_a610_81fdf2bee9b2row4_col1,#T_97df1cee_9652_11eb_a610_81fdf2bee9b2row4_col2,#T_97df1cee_9652_11eb_a610_81fdf2bee9b2row5_col0,#T_97df1cee_9652_11eb_a610_81fdf2bee9b2row5_col1,#T_97df1cee_9652_11eb_a610_81fdf2bee9b2row5_col2,#T_97df1cee_9652_11eb_a610_81fdf2bee9b2row6_col0,#T_97df1cee_9652_11eb_a610_81fdf2bee9b2row6_col1,#T_97df1cee_9652_11eb_a610_81fdf2bee9b2row6_col2{\n",
       "            background-color:  white;\n",
       "        }#T_97df1cee_9652_11eb_a610_81fdf2bee9b2row2_col0,#T_97df1cee_9652_11eb_a610_81fdf2bee9b2row2_col1,#T_97df1cee_9652_11eb_a610_81fdf2bee9b2row2_col2{\n",
       "            background-color:  yellow;\n",
       "        }</style><table id=\"T_97df1cee_9652_11eb_a610_81fdf2bee9b2\" ><thead>    <tr>        <th class=\"blank level0\" ></th>        <th class=\"col_heading level0 col0\" >i</th>        <th class=\"col_heading level0 col1\" >Ri</th>        <th class=\"col_heading level0 col2\" >λi</th>    </tr></thead><tbody>\n",
       "                <tr>\n",
       "                        <th id=\"T_97df1cee_9652_11eb_a610_81fdf2bee9b2level0_row0\" class=\"row_heading level0 row0\" >1</th>\n",
       "                        <td id=\"T_97df1cee_9652_11eb_a610_81fdf2bee9b2row0_col0\" class=\"data row0 col0\" >1</td>\n",
       "                        <td id=\"T_97df1cee_9652_11eb_a610_81fdf2bee9b2row0_col1\" class=\"data row0 col1\" >7.124124</td>\n",
       "                        <td id=\"T_97df1cee_9652_11eb_a610_81fdf2bee9b2row0_col2\" class=\"data row0 col2\" >3.384083</td>\n",
       "            </tr>\n",
       "            <tr>\n",
       "                        <th id=\"T_97df1cee_9652_11eb_a610_81fdf2bee9b2level0_row1\" class=\"row_heading level0 row1\" >2</th>\n",
       "                        <td id=\"T_97df1cee_9652_11eb_a610_81fdf2bee9b2row1_col0\" class=\"data row1 col0\" >2</td>\n",
       "                        <td id=\"T_97df1cee_9652_11eb_a610_81fdf2bee9b2row1_col1\" class=\"data row1 col1\" >7.172286</td>\n",
       "                        <td id=\"T_97df1cee_9652_11eb_a610_81fdf2bee9b2row1_col2\" class=\"data row1 col2\" >3.380651</td>\n",
       "            </tr>\n",
       "            <tr>\n",
       "                        <th id=\"T_97df1cee_9652_11eb_a610_81fdf2bee9b2level0_row2\" class=\"row_heading level0 row2\" >3</th>\n",
       "                        <td id=\"T_97df1cee_9652_11eb_a610_81fdf2bee9b2row2_col0\" class=\"data row2 col0\" >3</td>\n",
       "                        <td id=\"T_97df1cee_9652_11eb_a610_81fdf2bee9b2row2_col1\" class=\"data row2 col1\" >9.345694</td>\n",
       "                        <td id=\"T_97df1cee_9652_11eb_a610_81fdf2bee9b2row2_col2\" class=\"data row2 col2\" >3.377176</td>\n",
       "            </tr>\n",
       "            <tr>\n",
       "                        <th id=\"T_97df1cee_9652_11eb_a610_81fdf2bee9b2level0_row3\" class=\"row_heading level0 row3\" >4</th>\n",
       "                        <td id=\"T_97df1cee_9652_11eb_a610_81fdf2bee9b2row3_col0\" class=\"data row3 col0\" >4</td>\n",
       "                        <td id=\"T_97df1cee_9652_11eb_a610_81fdf2bee9b2row3_col1\" class=\"data row3 col1\" >1.775922</td>\n",
       "                        <td id=\"T_97df1cee_9652_11eb_a610_81fdf2bee9b2row3_col2\" class=\"data row3 col2\" >3.373658</td>\n",
       "            </tr>\n",
       "            <tr>\n",
       "                        <th id=\"T_97df1cee_9652_11eb_a610_81fdf2bee9b2level0_row4\" class=\"row_heading level0 row4\" >5</th>\n",
       "                        <td id=\"T_97df1cee_9652_11eb_a610_81fdf2bee9b2row4_col0\" class=\"data row4 col0\" >5</td>\n",
       "                        <td id=\"T_97df1cee_9652_11eb_a610_81fdf2bee9b2row4_col1\" class=\"data row4 col1\" >1.711900</td>\n",
       "                        <td id=\"T_97df1cee_9652_11eb_a610_81fdf2bee9b2row4_col2\" class=\"data row4 col2\" >3.370097</td>\n",
       "            </tr>\n",
       "            <tr>\n",
       "                        <th id=\"T_97df1cee_9652_11eb_a610_81fdf2bee9b2level0_row5\" class=\"row_heading level0 row5\" >6</th>\n",
       "                        <td id=\"T_97df1cee_9652_11eb_a610_81fdf2bee9b2row5_col0\" class=\"data row5 col0\" >6</td>\n",
       "                        <td id=\"T_97df1cee_9652_11eb_a610_81fdf2bee9b2row5_col1\" class=\"data row5 col1\" >1.744244</td>\n",
       "                        <td id=\"T_97df1cee_9652_11eb_a610_81fdf2bee9b2row5_col2\" class=\"data row5 col2\" >3.366490</td>\n",
       "            </tr>\n",
       "            <tr>\n",
       "                        <th id=\"T_97df1cee_9652_11eb_a610_81fdf2bee9b2level0_row6\" class=\"row_heading level0 row6\" >7</th>\n",
       "                        <td id=\"T_97df1cee_9652_11eb_a610_81fdf2bee9b2row6_col0\" class=\"data row6 col0\" >7</td>\n",
       "                        <td id=\"T_97df1cee_9652_11eb_a610_81fdf2bee9b2row6_col1\" class=\"data row6 col1\" >1.698757</td>\n",
       "                        <td id=\"T_97df1cee_9652_11eb_a610_81fdf2bee9b2row6_col2\" class=\"data row6 col2\" >3.362836</td>\n",
       "            </tr>\n",
       "    </tbody></table>"
      ],
      "text/plain": [
       "<pandas.io.formats.style.Styler at 0x1cc435bb040>"
      ]
     },
     "execution_count": 140,
     "metadata": {},
     "output_type": "execute_result"
    }
   ],
   "source": [
    "ESD_Test(y, 0.05, 7)"
   ]
  },
  {
   "cell_type": "code",
   "execution_count": null,
   "metadata": {
    "id": "u02f3D1XstXi"
   },
   "outputs": [],
   "source": []
  }
 ],
 "metadata": {
  "colab": {
   "name": "GESD.ipynb",
   "provenance": []
  },
  "kernelspec": {
   "display_name": "Python 3",
   "language": "python",
   "name": "python3"
  },
  "language_info": {
   "codemirror_mode": {
    "name": "ipython",
    "version": 3
   },
   "file_extension": ".py",
   "mimetype": "text/x-python",
   "name": "python",
   "nbconvert_exporter": "python",
   "pygments_lexer": "ipython3",
   "version": "3.8.5"
  }
 },
 "nbformat": 4,
 "nbformat_minor": 1
}
